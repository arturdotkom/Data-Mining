{
 "cells": [
  {
   "cell_type": "markdown",
   "metadata": {},
   "source": [
    "This document aims to determine which between two predictive models does a better job at predicting whether a mushroom is poisonous or edible based on different characteristics. The first model is a Multinomial Naive Bayes model and the second is a Random Forest model. They will be compared based on their prediction accuracy."
   ]
  },
  {
   "cell_type": "markdown",
   "metadata": {},
   "source": [
    "Naive Bayes Model:"
   ]
  },
  {
   "cell_type": "code",
   "execution_count": 11,
   "metadata": {},
   "outputs": [
    {
     "name": "stdout",
     "output_type": "stream",
     "text": [
      "Accuracy: 0.8898\n"
     ]
    }
   ],
   "source": [
    "import pandas as pd\n",
    "import numpy as np\n",
    "import random\n",
    "\n",
    "df = pd.read_csv(\"mushrooms.csv\")\n",
    "\n",
    "y = df['class'].values\n",
    "X = df.drop(columns=['class'])\n",
    "\n",
    "def encode_features(df):\n",
    "    encoded = {}\n",
    "    for col in df.columns:\n",
    "        encoded[col] = {val: i for i, val in enumerate(df[col].unique())}\n",
    "        df[col] = df[col].map(encoded[col])\n",
    "    return df, encoded\n",
    "\n",
    "X, encoding_dict = encode_features(X)\n",
    "\n",
    "X = X.values\n",
    "y = np.array([1 if label == 'p' else 0 for label in y])\n",
    "\n",
    "indices = list(range(len(X)))\n",
    "random.shuffle(indices)\n",
    "split = int(0.8 * len(X))\n",
    "train_idx, test_idx = indices[:split], indices[split:]\n",
    "\n",
    "X_train, X_test = X[train_idx], X[test_idx]\n",
    "y_train, y_test = y[train_idx], y[test_idx]\n",
    "\n",
    "class_counts = np.bincount(y_train)\n",
    "prior_probs = class_counts / len(y_train)\n",
    "\n",
    "feature_counts = {}\n",
    "feature_probs = {}\n",
    "\n",
    "for c in [0, 1]:\n",
    "    feature_counts[c] = X_train[y_train == c].sum(axis=0) + 1\n",
    "    feature_probs[c] = feature_counts[c] / feature_counts[c].sum()\n",
    "\n",
    "def predict(X):\n",
    "    predictions = []\n",
    "    for sample in X:\n",
    "        class_probs = np.log(prior_probs)\n",
    "        for c in [0, 1]:\n",
    "            class_probs[c] += np.sum(np.log(feature_probs[c]) * sample) \n",
    "        predictions.append(np.argmax(class_probs))\n",
    "    return np.array(predictions)\n",
    "\n",
    "y_pred = predict(X_test)\n",
    "accuracy = np.mean(y_pred == y_test)\n",
    "\n",
    "print(f\"Accuracy: {accuracy:.4f}\")\n"
   ]
  },
  {
   "cell_type": "markdown",
   "metadata": {},
   "source": [
    "Here I implemented a Multinomial Naive Bayes model to predict whether mushrooms are poisonous or edible based on their characteristics. The dataset was processed by giving all categorical features a numerical value. I then used Laplace smoothing to avoid zero probabilities, and calculated log-probabilities to avoid misleading results due to multiplication of small probabilities.\n",
    "\n",
    "The dataset was split 80/20 into training and test sets. The final model achieved an accuracy of approximately 88.98%, indicating strong predictive power."
   ]
  },
  {
   "cell_type": "markdown",
   "metadata": {},
   "source": [
    "Random Forest Model:"
   ]
  },
  {
   "cell_type": "code",
   "execution_count": 14,
   "metadata": {},
   "outputs": [
    {
     "name": "stdout",
     "output_type": "stream",
     "text": [
      "Random Forest Accuracy: 1.0000\n"
     ]
    }
   ],
   "source": [
    "from sklearn.ensemble import RandomForestClassifier\n",
    "from sklearn.metrics import accuracy_score\n",
    "\n",
    "rf_model = RandomForestClassifier(n_estimators=100, random_state=42)\n",
    "rf_model.fit(X_train, y_train)\n",
    "\n",
    "rf_pred = rf_model.predict(X_test)\n",
    "\n",
    "rf_accuracy = accuracy_score(y_test, rf_pred)\n",
    "print(f\"Random Forest Accuracy: {rf_accuracy:.4f}\")"
   ]
  },
  {
   "cell_type": "markdown",
   "metadata": {},
   "source": [
    "Using some previously defined functions and variables, implementing the Random Forest model was straightforward. The model was trained on the same training set as the Naive Bayes model to ensure an accurate comparison of the two. The Random Forest model achieved 100% accuracy. While this may indicate that the Random Forest model is better at predicting whether a mushroom is poisonous or not, it would be best to gather more information from the two models to ensure their reliability. Therefore, a classification report will be generated for both models to provide another evaluation of their performance."
   ]
  },
  {
   "cell_type": "markdown",
   "metadata": {},
   "source": [
    "Classification Report:"
   ]
  },
  {
   "cell_type": "code",
   "execution_count": 15,
   "metadata": {},
   "outputs": [
    {
     "name": "stdout",
     "output_type": "stream",
     "text": [
      "Naive Bayes Classification Report:\n",
      "              precision    recall  f1-score   support\n",
      "\n",
      "           0       0.86      0.94      0.90       853\n",
      "           1       0.92      0.84      0.88       772\n",
      "\n",
      "    accuracy                           0.89      1625\n",
      "   macro avg       0.89      0.89      0.89      1625\n",
      "weighted avg       0.89      0.89      0.89      1625\n",
      "\n",
      "Random Forest Classification Report:\n",
      "              precision    recall  f1-score   support\n",
      "\n",
      "           0       1.00      1.00      1.00       853\n",
      "           1       1.00      1.00      1.00       772\n",
      "\n",
      "    accuracy                           1.00      1625\n",
      "   macro avg       1.00      1.00      1.00      1625\n",
      "weighted avg       1.00      1.00      1.00      1625\n",
      "\n"
     ]
    }
   ],
   "source": [
    "from sklearn.metrics import classification_report\n",
    "\n",
    "print(\"Naive Bayes Classification Report:\")\n",
    "print(classification_report(y_test, y_pred))\n",
    "\n",
    "print(\"Random Forest Classification Report:\")\n",
    "print(classification_report(y_test, rf_pred))"
   ]
  },
  {
   "cell_type": "markdown",
   "metadata": {},
   "source": [
    "The Random Forest model achieved 100% accuracy, with perfect precision and recall for both classes according to the classification report. This confirms that the model generally works extremely well on the mushroom dataset, and the perfect accuracy is not misleading or due to class imbalance.\n",
    "\n",
    "In contrast, the Naive Bayes model, while also effective, had a slightly lower prediction accuracy as well as lower precision and recall for the poisonous class. This indicates that while the Naive Bayes model is still a strong performer, it does not match the performance of the Random Forest model on this particular dataset."
   ]
  }
 ],
 "metadata": {
  "kernelspec": {
   "display_name": "base",
   "language": "python",
   "name": "python3"
  },
  "language_info": {
   "codemirror_mode": {
    "name": "ipython",
    "version": 3
   },
   "file_extension": ".py",
   "mimetype": "text/x-python",
   "name": "python",
   "nbconvert_exporter": "python",
   "pygments_lexer": "ipython3",
   "version": "3.12.7"
  }
 },
 "nbformat": 4,
 "nbformat_minor": 2
}
